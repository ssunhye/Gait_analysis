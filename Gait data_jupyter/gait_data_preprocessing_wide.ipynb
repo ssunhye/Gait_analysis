{
 "cells": [
  {
   "cell_type": "code",
   "execution_count": 1,
   "metadata": {},
   "outputs": [],
   "source": [
    "import sys\n",
    "import os\n",
    "import time as t\n",
    "\n",
    "import numpy as np\n",
    "import pandas as pd"
   ]
  },
  {
   "cell_type": "code",
   "execution_count": 2,
   "metadata": {},
   "outputs": [],
   "source": [
    "# raw data가 들어있는 폴더명\n",
    "# .(콤마)는 현위치를 의미. 현 위치의 하위 폴더 ./폴더명\n",
    "\n",
    "path_false = \"./data/20190709/\"\n",
    "path_true = \"./data/20190709/\""
   ]
  },
  {
   "cell_type": "code",
   "execution_count": 3,
   "metadata": {},
   "outputs": [],
   "source": [
    "# 추출할 feature\n",
    "\n",
    "cc = [\n",
    "    \"subject\", \"age\", \"group\",\n",
    "    \"R_HIP_Flex_ANG\", \"L_HIP_Flex_ANG\",\n",
    "    \"R_KNEE_Flex_ANG\", \"L_KNEE_Flex_ANG\",\n",
    "    \"R_ANK_Flex_ANG\", \"L_ANK_Flex_ANG\",\n",
    "    \"R_Pelvis_Lat_Tilt\", \"L_Pelvis_Lat_Tilt\",\n",
    "    \"R_HIP_Rot_ANG\", \"L_HIP_Rot_ANG\",\n",
    "    \"R_Foot_Orientation\", \"L_Foot_Orientation\"\n",
    "]"
   ]
  },
  {
   "cell_type": "code",
   "execution_count": 4,
   "metadata": {},
   "outputs": [],
   "source": [
    "# xlsx 파일에서 data와 age를 읽어오는 함수\n",
    "\n",
    "def read_files(path, file):\n",
    "    data = pd.read_excel(\n",
    "        os.path.join(path, file),\n",
    "        sheet_name=\"Average\",\n",
    "        header=1,\n",
    "        skiprows=27,)\n",
    "    try:\n",
    "        age = pd.read_excel(\n",
    "            os.path.join(path, file),\n",
    "            skipfooter=17,\n",
    "            header=1,\n",
    "        )[\"Unnamed: 16\"][6]\n",
    "    except Exception as e:\n",
    "        print(file)\n",
    "        age = np.nan\n",
    "    return data, age"
   ]
  },
  {
   "cell_type": "code",
   "execution_count": 5,
   "metadata": {},
   "outputs": [],
   "source": [
    "# 파일 저장용 함수\n",
    "\n",
    "def save_data(result, group: str = \"all\"):\n",
    "    now = t.localtime()\n",
    "    folder_name = \"result\"\n",
    "    try:\n",
    "        if not(os.path.isdir(folder_name)):\n",
    "            os.makedirs(os.path.join(folder_name))\n",
    "    except OSError as e:\n",
    "        if e.errno != errno.EEXIST:\n",
    "            print(\"Failed to create directory!!!!!\")\n",
    "            raise\n",
    "\n",
    "    s = \"%04d%02d%02d_%02d%02d\" % (now.tm_year, now.tm_mon,\n",
    "                                   now.tm_mday, now.tm_hour, now.tm_min)\n",
    "\n",
    "    # 파일 저장\n",
    "    result.to_csv(\"./{}/gait_{}_{}.csv\".format(folder_name, s, group),\n",
    "                  encoding='cp949', index=False)"
   ]
  },
  {
   "cell_type": "code",
   "execution_count": 6,
   "metadata": {},
   "outputs": [
    {
     "data": {
      "text/plain": [
       "['001.xls', '002.xls', '003.xls']"
      ]
     },
     "execution_count": 6,
     "metadata": {},
     "output_type": "execute_result"
    }
   ],
   "source": [
    "# 파일 읽는 순서 상관 있는지? \n",
    "\n",
    "# key=lambda x: int(x.split(\".\")[0]))\n",
    "files_false = sorted(os.listdir(path_false),)\n",
    "files_false = [f for f in files_false if \".xl\" in f] # 엑셀 파일만 가능하도록\n",
    "files_false"
   ]
  },
  {
   "cell_type": "code",
   "execution_count": 8,
   "metadata": {},
   "outputs": [
    {
     "name": "stdout",
     "output_type": "stream",
     "text": [
      "001.xls\n",
      "002.xls\n",
      "003.xls\n",
      "Wall time: 22.5 s\n"
     ]
    }
   ],
   "source": [
    "%%time\n",
    "\n",
    "# 일반적인 table로 생성 후, 가로로 붙이는 작업을 한다.\n",
    "\n",
    "subject = 0\n",
    "result = pd.DataFrame()\n",
    "\n",
    "for file in files_false:\n",
    "    print(file)\n",
    "    data, age = read_files(path_false, file)\n",
    "    group = 0\n",
    "    data[\"subject\"] = subject\n",
    "    data[\"age\"] = age\n",
    "    data[\"group\"] = group\n",
    "    data = data[cc]\n",
    "\n",
    "    add_col = []\n",
    "    if result.empty:\n",
    "        feature_cc = cc[3:]\n",
    "        for i in range(len(feature_cc)):\n",
    "            for j in range(1,101):\n",
    "                add_col.append(feature_cc[i]+'_{:03}'.format(j))\n",
    "        result_col = cc[:3]+add_col\n",
    "        result = pd.DataFrame(columns=result_col)\n",
    "    \n",
    "    # insert data to table\n",
    "    longi_data = []\n",
    "    #print(data[data.columns[3]])\n",
    "    \n",
    "    for i in range(3,len(cc)):\n",
    "        temp = [j for j in data[data.columns[i]].values.tolist()]\n",
    "        longi_data+=temp\n",
    "    \n",
    "    temp = pd.DataFrame([[subject,  age, group, ] + longi_data], columns=result_col)\n",
    "    result = result.append(temp, ignore_index=True)\n",
    "\n",
    "    subject += 1"
   ]
  },
  {
   "cell_type": "code",
   "execution_count": 9,
   "metadata": {},
   "outputs": [],
   "source": [
    "# save group = false\n",
    "save_data(result=result, group=\"false\")"
   ]
  },
  {
   "cell_type": "code",
   "execution_count": null,
   "metadata": {},
   "outputs": [],
   "source": []
  }
 ],
 "metadata": {
  "kernelspec": {
   "display_name": "Python 3",
   "language": "python",
   "name": "python3"
  },
  "language_info": {
   "codemirror_mode": {
    "name": "ipython",
    "version": 3
   },
   "file_extension": ".py",
   "mimetype": "text/x-python",
   "name": "python",
   "nbconvert_exporter": "python",
   "pygments_lexer": "ipython3",
   "version": "3.7.1"
  }
 },
 "nbformat": 4,
 "nbformat_minor": 2
}
