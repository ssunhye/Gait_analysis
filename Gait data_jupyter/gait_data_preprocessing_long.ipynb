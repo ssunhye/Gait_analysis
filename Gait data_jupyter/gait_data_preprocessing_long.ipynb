{
 "cells": [
  {
   "cell_type": "code",
   "execution_count": 2,
   "metadata": {},
   "outputs": [],
   "source": [
    "import sys\n",
    "import os\n",
    "import time as t\n",
    "\n",
    "import numpy as np\n",
    "import pandas as pd"
   ]
  },
  {
   "cell_type": "code",
   "execution_count": 3,
   "metadata": {},
   "outputs": [],
   "source": [
    "# raw data가 들어있는 폴더명\n",
    "# .(콤마)는 현위치를 의미. 현 위치의 하위 폴더 ./폴더명\n",
    "\n",
    "path_false = \"./data/20190709/\"\n",
    "path_true = \"./data/20190709/\""
   ]
  },
  {
   "cell_type": "code",
   "execution_count": 4,
   "metadata": {},
   "outputs": [],
   "source": [
    "# 추출할 feature\n",
    "\n",
    "cols = [\n",
    "    \"subject\", \"age\", \"group\", \"time\",\n",
    "    \"R_HIP_Flex_ANG\", \"L_HIP_Flex_ANG\",\n",
    "    \"R_KNEE_Flex_ANG\", \"L_KNEE_Flex_ANG\",\n",
    "    \"R_ANK_Flex_ANG\", \"L_ANK_Flex_ANG\",\n",
    "    \"R_Pelvis_Lat_Tilt\", \"L_Pelvis_Lat_Tilt\",\n",
    "    \"R_HIP_Rot_ANG\", \"L_HIP_Rot_ANG\",\n",
    "    \"R_Foot_Orientation\", \"L_Foot_Orientation\"\n",
    "]"
   ]
  },
  {
   "cell_type": "code",
   "execution_count": 5,
   "metadata": {},
   "outputs": [],
   "source": [
    "# xlsx 파일에서 data와 age를 읽어오는 함수\n",
    "\n",
    "def read_files(path, file):\n",
    "    data = pd.read_excel(\n",
    "        os.path.join(path, file),\n",
    "        sheet_name=\"Average\",\n",
    "        header=1,\n",
    "        skiprows=27,)\n",
    "    try:\n",
    "        age = pd.read_excel(\n",
    "            os.path.join(path, file),\n",
    "            skipfooter=17,\n",
    "            header=1,\n",
    "        )[\"Unnamed: 16\"][6]\n",
    "    except Exception as e:\n",
    "        print(file)\n",
    "        age = np.nan\n",
    "    return data, age"
   ]
  },
  {
   "cell_type": "code",
   "execution_count": 6,
   "metadata": {},
   "outputs": [],
   "source": [
    "# 파일 저장용 함수\n",
    "\n",
    "def save_data(result, group: str = \"all\"):\n",
    "    now = t.localtime()\n",
    "    folder_name = \"result\"\n",
    "    try:\n",
    "        if not(os.path.isdir(folder_name)):\n",
    "            os.makedirs(os.path.join(folder_name))\n",
    "    except OSError as e:\n",
    "        if e.errno != errno.EEXIST:\n",
    "            print(\"Failed to create directory!!!!!\")\n",
    "            raise\n",
    "\n",
    "    s = \"%04d%02d%02d_%02d%02d\" % (now.tm_year, now.tm_mon,\n",
    "                                   now.tm_mday, now.tm_hour, now.tm_min)\n",
    "\n",
    "    # 파일 저장\n",
    "    result.to_csv(\"./{}/gait_{}_{}.csv\".format(folder_name, s, group),\n",
    "                  encoding='cp949', index=False)"
   ]
  },
  {
   "cell_type": "code",
   "execution_count": 7,
   "metadata": {},
   "outputs": [
    {
     "name": "stdout",
     "output_type": "stream",
     "text": [
      "001.xls\n",
      "002.xls\n",
      "003.xls\n",
      "004.xls\n",
      "005.xls\n",
      "006.xls\n",
      "007.xls\n",
      "008.xls\n",
      "009.xls\n",
      "010.xls\n"
     ]
    }
   ],
   "source": [
    "## group = false 데이터 처리 ##\n",
    "\n",
    "time = np.arange(1, 101)\n",
    "subject = np.ones(100)\n",
    "\n",
    "# make colums\n",
    "temp = pd.DataFrame(columns=cols)\n",
    "result = pd.DataFrame(columns=cols)\n",
    "\n",
    "files = sorted(os.listdir(path_false),)\n",
    "files = [f for f in files if \".xl\" in f]\n",
    "\n",
    "for file in files:\n",
    "    print(file)\n",
    "    data,age = read_files(path_false,file)\n",
    "    group = 0\n",
    "    \n",
    "    data[\"subject\"] = subject\n",
    "    data[\"age\"] = age\n",
    "    data[\"group\"] = group\n",
    "    data[\"time\"] = time\n",
    "    \n",
    "    # temp 파일에 데이터 넣기\n",
    "    temp = data[cols]\n",
    "    \n",
    "    # result 비어있는 경우\n",
    "    if result.empty:\n",
    "        result = temp\n",
    "        subject +=1\n",
    "        continue\n",
    "        \n",
    "    # 이전파일(result)과 새로운 파일(temp) 병합\n",
    "    result = pd.concat([result,temp,])\n",
    "\n",
    "    subject += 1"
   ]
  },
  {
   "cell_type": "code",
   "execution_count": 8,
   "metadata": {},
   "outputs": [],
   "source": [
    "# save group = false\n",
    "save_data(result=result, group=\"false\")"
   ]
  },
  {
   "cell_type": "code",
   "execution_count": null,
   "metadata": {},
   "outputs": [],
   "source": []
  }
 ],
 "metadata": {
  "kernelspec": {
   "display_name": "Python 3",
   "language": "python",
   "name": "python3"
  },
  "language_info": {
   "codemirror_mode": {
    "name": "ipython",
    "version": 3
   },
   "file_extension": ".py",
   "mimetype": "text/x-python",
   "name": "python",
   "nbconvert_exporter": "python",
   "pygments_lexer": "ipython3",
   "version": "3.7.1"
  }
 },
 "nbformat": 4,
 "nbformat_minor": 2
}
